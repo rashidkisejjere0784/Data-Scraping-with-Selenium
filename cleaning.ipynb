{
 "cells": [
  {
   "cell_type": "code",
   "execution_count": 31,
   "metadata": {},
   "outputs": [
    {
     "data": {
      "text/html": [
       "<div>\n",
       "<style scoped>\n",
       "    .dataframe tbody tr th:only-of-type {\n",
       "        vertical-align: middle;\n",
       "    }\n",
       "\n",
       "    .dataframe tbody tr th {\n",
       "        vertical-align: top;\n",
       "    }\n",
       "\n",
       "    .dataframe thead th {\n",
       "        text-align: right;\n",
       "    }\n",
       "</style>\n",
       "<table border=\"1\" class=\"dataframe\">\n",
       "  <thead>\n",
       "    <tr style=\"text-align: right;\">\n",
       "      <th></th>\n",
       "      <th>Header</th>\n",
       "      <th>Date</th>\n",
       "      <th>Content</th>\n",
       "      <th>URLs</th>\n",
       "    </tr>\n",
       "  </thead>\n",
       "  <tbody>\n",
       "    <tr>\n",
       "      <th>0</th>\n",
       "      <td>Muriithi: A minor is not a citizen and other b...</td>\n",
       "      <td>2014-06-01 00:00:00</td>\n",
       "      <td>A minor is not a citizen and other bizarre Ken...</td>\n",
       "      <td>https://nation.africa/kenya/blogs-opinion/opin...</td>\n",
       "    </tr>\n",
       "    <tr>\n",
       "      <th>1</th>\n",
       "      <td>Case on Sh50 eCitizen convenience fee transfer...</td>\n",
       "      <td>2017-05-01 00:00:00</td>\n",
       "      <td>Case on Sh50 eCitizen convenience fee transfer...</td>\n",
       "      <td>https://nation.africa/kenya/news/case-on-eciti...</td>\n",
       "    </tr>\n",
       "    <tr>\n",
       "      <th>2</th>\n",
       "      <td>Half of businesses snub transactions on KRAs e...</td>\n",
       "      <td>2006-05-01 00:00:00</td>\n",
       "      <td>Hakamba Wangwe, KRA chief manager for eTims. \\...</td>\n",
       "      <td>https://nation.africa/kenya/business/half-of-b...</td>\n",
       "    </tr>\n",
       "    <tr>\n",
       "      <th>3</th>\n",
       "      <td>Why Gathungu will conduct forensic audit on eC...</td>\n",
       "      <td>2002-05-01 00:00:00</td>\n",
       "      <td>Caption for the landscape image:\\nWhy Nancy Ga...</td>\n",
       "      <td>https://nation.africa/kenya/business/why-nancy...</td>\n",
       "    </tr>\n",
       "    <tr>\n",
       "      <th>4</th>\n",
       "      <td>PS on the spot on payment of school fees throu...</td>\n",
       "      <td>2016-04-01 00:00:00</td>\n",
       "      <td>MPs put PS on the spot on payment of school fe...</td>\n",
       "      <td>https://nation.africa/kenya/news/mps-put-ps-on...</td>\n",
       "    </tr>\n",
       "  </tbody>\n",
       "</table>\n",
       "</div>"
      ],
      "text/plain": [
       "                                              Header                 Date  \\\n",
       "0  Muriithi: A minor is not a citizen and other b...  2014-06-01 00:00:00   \n",
       "1  Case on Sh50 eCitizen convenience fee transfer...  2017-05-01 00:00:00   \n",
       "2  Half of businesses snub transactions on KRAs e...  2006-05-01 00:00:00   \n",
       "3  Why Gathungu will conduct forensic audit on eC...  2002-05-01 00:00:00   \n",
       "4  PS on the spot on payment of school fees throu...  2016-04-01 00:00:00   \n",
       "\n",
       "                                             Content  \\\n",
       "0  A minor is not a citizen and other bizarre Ken...   \n",
       "1  Case on Sh50 eCitizen convenience fee transfer...   \n",
       "2  Hakamba Wangwe, KRA chief manager for eTims. \\...   \n",
       "3  Caption for the landscape image:\\nWhy Nancy Ga...   \n",
       "4  MPs put PS on the spot on payment of school fe...   \n",
       "\n",
       "                                                URLs  \n",
       "0  https://nation.africa/kenya/blogs-opinion/opin...  \n",
       "1  https://nation.africa/kenya/news/case-on-eciti...  \n",
       "2  https://nation.africa/kenya/business/half-of-b...  \n",
       "3  https://nation.africa/kenya/business/why-nancy...  \n",
       "4  https://nation.africa/kenya/news/mps-put-ps-on...  "
      ]
     },
     "execution_count": 31,
     "metadata": {},
     "output_type": "execute_result"
    }
   ],
   "source": [
    "import pandas as pd\n",
    "\n",
    "data = pd.read_excel(\"Cleaned.xlsx\")\n",
    "data.head()"
   ]
  },
  {
   "cell_type": "code",
   "execution_count": 32,
   "metadata": {},
   "outputs": [
    {
     "data": {
      "text/html": [
       "<div>\n",
       "<style scoped>\n",
       "    .dataframe tbody tr th:only-of-type {\n",
       "        vertical-align: middle;\n",
       "    }\n",
       "\n",
       "    .dataframe tbody tr th {\n",
       "        vertical-align: top;\n",
       "    }\n",
       "\n",
       "    .dataframe thead th {\n",
       "        text-align: right;\n",
       "    }\n",
       "</style>\n",
       "<table border=\"1\" class=\"dataframe\">\n",
       "  <thead>\n",
       "    <tr style=\"text-align: right;\">\n",
       "      <th></th>\n",
       "      <th>Header</th>\n",
       "      <th>Date</th>\n",
       "      <th>Content</th>\n",
       "      <th>URLs</th>\n",
       "    </tr>\n",
       "  </thead>\n",
       "  <tbody>\n",
       "    <tr>\n",
       "      <th>127</th>\n",
       "      <td>Awori tops Google search in May</td>\n",
       "      <td>Jun 05, 2015</td>\n",
       "      <td>Moody Awori and Sister Irene Stefani top Googl...</td>\n",
       "      <td>NaN</td>\n",
       "    </tr>\n",
       "    <tr>\n",
       "      <th>128</th>\n",
       "      <td>Authority pilots online renewal of driving lic...</td>\n",
       "      <td>Feb 09, 2015</td>\n",
       "      <td>Authority pilots online renewal of driving lic...</td>\n",
       "      <td>NaN</td>\n",
       "    </tr>\n",
       "    <tr>\n",
       "      <th>129</th>\n",
       "      <td>WALUBENGO: The Keter weighbridge lesson – corr...</td>\n",
       "      <td>Feb 03, 2015</td>\n",
       "      <td>Lesson from the Keter weighbridge saga  corrup...</td>\n",
       "      <td>NaN</td>\n",
       "    </tr>\n",
       "    <tr>\n",
       "      <th>130</th>\n",
       "      <td>Make customer the core pillar and take your bu...</td>\n",
       "      <td>Oct 20, 2014</td>\n",
       "      <td>Make customer the core pillar and take your bu...</td>\n",
       "      <td>NaN</td>\n",
       "    </tr>\n",
       "    <tr>\n",
       "      <th>131</th>\n",
       "      <td>Issuance of driving licences to go online from...</td>\n",
       "      <td>Oct 15, 2014</td>\n",
       "      <td>Issuance of driving licences to go online from...</td>\n",
       "      <td>NaN</td>\n",
       "    </tr>\n",
       "  </tbody>\n",
       "</table>\n",
       "</div>"
      ],
      "text/plain": [
       "                                                Header          Date  \\\n",
       "127                    Awori tops Google search in May  Jun 05, 2015   \n",
       "128  Authority pilots online renewal of driving lic...  Feb 09, 2015   \n",
       "129  WALUBENGO: The Keter weighbridge lesson – corr...  Feb 03, 2015   \n",
       "130  Make customer the core pillar and take your bu...  Oct 20, 2014   \n",
       "131  Issuance of driving licences to go online from...  Oct 15, 2014   \n",
       "\n",
       "                                               Content URLs  \n",
       "127  Moody Awori and Sister Irene Stefani top Googl...  NaN  \n",
       "128  Authority pilots online renewal of driving lic...  NaN  \n",
       "129  Lesson from the Keter weighbridge saga  corrup...  NaN  \n",
       "130  Make customer the core pillar and take your bu...  NaN  \n",
       "131  Issuance of driving licences to go online from...  NaN  "
      ]
     },
     "execution_count": 32,
     "metadata": {},
     "output_type": "execute_result"
    }
   ],
   "source": [
    "data.tail()"
   ]
  },
  {
   "cell_type": "code",
   "execution_count": 11,
   "metadata": {},
   "outputs": [
    {
     "data": {
      "text/plain": [
       "(132, 4)"
      ]
     },
     "execution_count": 11,
     "metadata": {},
     "output_type": "execute_result"
    }
   ],
   "source": [
    "data.shape"
   ]
  },
  {
   "cell_type": "code",
   "execution_count": 14,
   "metadata": {},
   "outputs": [],
   "source": [
    "Months = ['Jan', 'Feb', 'Mar', 'Apr', 'May', 'Jun', 'Jul', 'Aug', 'Sep', 'Oct', 'Nov', 'Dec']"
   ]
  },
  {
   "cell_type": "code",
   "execution_count": 33,
   "metadata": {},
   "outputs": [],
   "source": [
    "def reformat_date(date : str):\n",
    "    try:\n",
    "        index = date.index('-')\n",
    "        if index == -1:\n",
    "            return date\n",
    "    \n",
    "    except:\n",
    "        return date\n",
    "    val_1, val_2, val_3 = date.split('-')\n",
    "    val_1 = str(val_1)[-2:]\n",
    "    val_2 = Months[int(val_2) - 1]\n",
    "    return f\"{val_2} {val_1}, 2024\""
   ]
  },
  {
   "cell_type": "code",
   "execution_count": 34,
   "metadata": {},
   "outputs": [
    {
     "data": {
      "text/plain": [
       "'Jun 14, 2024'"
      ]
     },
     "execution_count": 34,
     "metadata": {},
     "output_type": "execute_result"
    }
   ],
   "source": [
    "reformat_date('2014-06-01 00:00:00')"
   ]
  },
  {
   "cell_type": "code",
   "execution_count": 35,
   "metadata": {},
   "outputs": [],
   "source": [
    "data['Date'] = data['Date'].apply(lambda x : reformat_date(str(x)))"
   ]
  },
  {
   "cell_type": "code",
   "execution_count": 36,
   "metadata": {},
   "outputs": [
    {
     "data": {
      "text/html": [
       "<div>\n",
       "<style scoped>\n",
       "    .dataframe tbody tr th:only-of-type {\n",
       "        vertical-align: middle;\n",
       "    }\n",
       "\n",
       "    .dataframe tbody tr th {\n",
       "        vertical-align: top;\n",
       "    }\n",
       "\n",
       "    .dataframe thead th {\n",
       "        text-align: right;\n",
       "    }\n",
       "</style>\n",
       "<table border=\"1\" class=\"dataframe\">\n",
       "  <thead>\n",
       "    <tr style=\"text-align: right;\">\n",
       "      <th></th>\n",
       "      <th>Header</th>\n",
       "      <th>Date</th>\n",
       "      <th>Content</th>\n",
       "      <th>URLs</th>\n",
       "    </tr>\n",
       "  </thead>\n",
       "  <tbody>\n",
       "    <tr>\n",
       "      <th>0</th>\n",
       "      <td>Muriithi: A minor is not a citizen and other b...</td>\n",
       "      <td>Jun 14, 2024</td>\n",
       "      <td>A minor is not a citizen and other bizarre Ken...</td>\n",
       "      <td>https://nation.africa/kenya/blogs-opinion/opin...</td>\n",
       "    </tr>\n",
       "    <tr>\n",
       "      <th>1</th>\n",
       "      <td>Case on Sh50 eCitizen convenience fee transfer...</td>\n",
       "      <td>May 17, 2024</td>\n",
       "      <td>Case on Sh50 eCitizen convenience fee transfer...</td>\n",
       "      <td>https://nation.africa/kenya/news/case-on-eciti...</td>\n",
       "    </tr>\n",
       "    <tr>\n",
       "      <th>2</th>\n",
       "      <td>Half of businesses snub transactions on KRAs e...</td>\n",
       "      <td>May 06, 2024</td>\n",
       "      <td>Hakamba Wangwe, KRA chief manager for eTims. \\...</td>\n",
       "      <td>https://nation.africa/kenya/business/half-of-b...</td>\n",
       "    </tr>\n",
       "    <tr>\n",
       "      <th>3</th>\n",
       "      <td>Why Gathungu will conduct forensic audit on eC...</td>\n",
       "      <td>May 02, 2024</td>\n",
       "      <td>Caption for the landscape image:\\nWhy Nancy Ga...</td>\n",
       "      <td>https://nation.africa/kenya/business/why-nancy...</td>\n",
       "    </tr>\n",
       "    <tr>\n",
       "      <th>4</th>\n",
       "      <td>PS on the spot on payment of school fees throu...</td>\n",
       "      <td>Apr 16, 2024</td>\n",
       "      <td>MPs put PS on the spot on payment of school fe...</td>\n",
       "      <td>https://nation.africa/kenya/news/mps-put-ps-on...</td>\n",
       "    </tr>\n",
       "  </tbody>\n",
       "</table>\n",
       "</div>"
      ],
      "text/plain": [
       "                                              Header          Date  \\\n",
       "0  Muriithi: A minor is not a citizen and other b...  Jun 14, 2024   \n",
       "1  Case on Sh50 eCitizen convenience fee transfer...  May 17, 2024   \n",
       "2  Half of businesses snub transactions on KRAs e...  May 06, 2024   \n",
       "3  Why Gathungu will conduct forensic audit on eC...  May 02, 2024   \n",
       "4  PS on the spot on payment of school fees throu...  Apr 16, 2024   \n",
       "\n",
       "                                             Content  \\\n",
       "0  A minor is not a citizen and other bizarre Ken...   \n",
       "1  Case on Sh50 eCitizen convenience fee transfer...   \n",
       "2  Hakamba Wangwe, KRA chief manager for eTims. \\...   \n",
       "3  Caption for the landscape image:\\nWhy Nancy Ga...   \n",
       "4  MPs put PS on the spot on payment of school fe...   \n",
       "\n",
       "                                                URLs  \n",
       "0  https://nation.africa/kenya/blogs-opinion/opin...  \n",
       "1  https://nation.africa/kenya/news/case-on-eciti...  \n",
       "2  https://nation.africa/kenya/business/half-of-b...  \n",
       "3  https://nation.africa/kenya/business/why-nancy...  \n",
       "4  https://nation.africa/kenya/news/mps-put-ps-on...  "
      ]
     },
     "execution_count": 36,
     "metadata": {},
     "output_type": "execute_result"
    }
   ],
   "source": [
    "data.head()"
   ]
  },
  {
   "cell_type": "code",
   "execution_count": 37,
   "metadata": {},
   "outputs": [
    {
     "data": {
      "text/html": [
       "<div>\n",
       "<style scoped>\n",
       "    .dataframe tbody tr th:only-of-type {\n",
       "        vertical-align: middle;\n",
       "    }\n",
       "\n",
       "    .dataframe tbody tr th {\n",
       "        vertical-align: top;\n",
       "    }\n",
       "\n",
       "    .dataframe thead th {\n",
       "        text-align: right;\n",
       "    }\n",
       "</style>\n",
       "<table border=\"1\" class=\"dataframe\">\n",
       "  <thead>\n",
       "    <tr style=\"text-align: right;\">\n",
       "      <th></th>\n",
       "      <th>Header</th>\n",
       "      <th>Date</th>\n",
       "      <th>Content</th>\n",
       "      <th>URLs</th>\n",
       "    </tr>\n",
       "  </thead>\n",
       "  <tbody>\n",
       "    <tr>\n",
       "      <th>0</th>\n",
       "      <td>Muriithi: A minor is not a citizen and other b...</td>\n",
       "      <td>2024-06-14</td>\n",
       "      <td>A minor is not a citizen and other bizarre Ken...</td>\n",
       "      <td>https://nation.africa/kenya/blogs-opinion/opin...</td>\n",
       "    </tr>\n",
       "    <tr>\n",
       "      <th>1</th>\n",
       "      <td>Case on Sh50 eCitizen convenience fee transfer...</td>\n",
       "      <td>2024-05-17</td>\n",
       "      <td>Case on Sh50 eCitizen convenience fee transfer...</td>\n",
       "      <td>https://nation.africa/kenya/news/case-on-eciti...</td>\n",
       "    </tr>\n",
       "    <tr>\n",
       "      <th>2</th>\n",
       "      <td>Half of businesses snub transactions on KRAs e...</td>\n",
       "      <td>2024-05-06</td>\n",
       "      <td>Hakamba Wangwe, KRA chief manager for eTims. \\...</td>\n",
       "      <td>https://nation.africa/kenya/business/half-of-b...</td>\n",
       "    </tr>\n",
       "    <tr>\n",
       "      <th>3</th>\n",
       "      <td>Why Gathungu will conduct forensic audit on eC...</td>\n",
       "      <td>2024-05-02</td>\n",
       "      <td>Caption for the landscape image:\\nWhy Nancy Ga...</td>\n",
       "      <td>https://nation.africa/kenya/business/why-nancy...</td>\n",
       "    </tr>\n",
       "    <tr>\n",
       "      <th>4</th>\n",
       "      <td>PS on the spot on payment of school fees throu...</td>\n",
       "      <td>2024-04-16</td>\n",
       "      <td>MPs put PS on the spot on payment of school fe...</td>\n",
       "      <td>https://nation.africa/kenya/news/mps-put-ps-on...</td>\n",
       "    </tr>\n",
       "  </tbody>\n",
       "</table>\n",
       "</div>"
      ],
      "text/plain": [
       "                                              Header       Date  \\\n",
       "0  Muriithi: A minor is not a citizen and other b... 2024-06-14   \n",
       "1  Case on Sh50 eCitizen convenience fee transfer... 2024-05-17   \n",
       "2  Half of businesses snub transactions on KRAs e... 2024-05-06   \n",
       "3  Why Gathungu will conduct forensic audit on eC... 2024-05-02   \n",
       "4  PS on the spot on payment of school fees throu... 2024-04-16   \n",
       "\n",
       "                                             Content  \\\n",
       "0  A minor is not a citizen and other bizarre Ken...   \n",
       "1  Case on Sh50 eCitizen convenience fee transfer...   \n",
       "2  Hakamba Wangwe, KRA chief manager for eTims. \\...   \n",
       "3  Caption for the landscape image:\\nWhy Nancy Ga...   \n",
       "4  MPs put PS on the spot on payment of school fe...   \n",
       "\n",
       "                                                URLs  \n",
       "0  https://nation.africa/kenya/blogs-opinion/opin...  \n",
       "1  https://nation.africa/kenya/news/case-on-eciti...  \n",
       "2  https://nation.africa/kenya/business/half-of-b...  \n",
       "3  https://nation.africa/kenya/business/why-nancy...  \n",
       "4  https://nation.africa/kenya/news/mps-put-ps-on...  "
      ]
     },
     "execution_count": 37,
     "metadata": {},
     "output_type": "execute_result"
    }
   ],
   "source": [
    "data['Date'] = pd.to_datetime(data['Date'])\n",
    "data.head()"
   ]
  },
  {
   "cell_type": "code",
   "execution_count": 38,
   "metadata": {},
   "outputs": [],
   "source": [
    "data.to_excel(\"Cleaned 2.xlsx\", index=False)"
   ]
  },
  {
   "cell_type": "code",
   "execution_count": 50,
   "metadata": {},
   "outputs": [
    {
     "data": {
      "text/plain": [
       "(182,)"
      ]
     },
     "execution_count": 50,
     "metadata": {},
     "output_type": "execute_result"
    }
   ],
   "source": [
    "new = data['Header'].drop_duplicates()\n",
    "new.shape"
   ]
  },
  {
   "cell_type": "code",
   "execution_count": 9,
   "metadata": {},
   "outputs": [],
   "source": [
    "new.to_excel(\"test.xlsx\", index=False)"
   ]
  },
  {
   "cell_type": "code",
   "execution_count": 13,
   "metadata": {},
   "outputs": [
    {
     "data": {
      "text/plain": [
       "(1, 9)"
      ]
     },
     "execution_count": 13,
     "metadata": {},
     "output_type": "execute_result"
    }
   ],
   "source": [
    "d = data.dropna()\n",
    "d.shape"
   ]
  },
  {
   "cell_type": "code",
   "execution_count": 14,
   "metadata": {},
   "outputs": [
    {
     "data": {
      "text/html": [
       "<div>\n",
       "<style scoped>\n",
       "    .dataframe tbody tr th:only-of-type {\n",
       "        vertical-align: middle;\n",
       "    }\n",
       "\n",
       "    .dataframe tbody tr th {\n",
       "        vertical-align: top;\n",
       "    }\n",
       "\n",
       "    .dataframe thead th {\n",
       "        text-align: right;\n",
       "    }\n",
       "</style>\n",
       "<table border=\"1\" class=\"dataframe\">\n",
       "  <thead>\n",
       "    <tr style=\"text-align: right;\">\n",
       "      <th></th>\n",
       "      <th>Header</th>\n",
       "      <th>Date</th>\n",
       "      <th>Content</th>\n",
       "      <th>urls</th>\n",
       "      <th>Unnamed: 4</th>\n",
       "      <th>Unnamed: 5</th>\n",
       "      <th>Unnamed: 6</th>\n",
       "      <th>Unnamed: 7</th>\n",
       "      <th>Unnamed: 8</th>\n",
       "    </tr>\n",
       "  </thead>\n",
       "  <tbody>\n",
       "    <tr>\n",
       "      <th>89</th>\n",
       "      <td>With your mandate</td>\n",
       "      <td>we made tenfold investments in the water sect...</td>\n",
       "      <td>Yamo Dam in Samburu County) and we are on cou...</td>\n",
       "      <td>https://nation.africa/kenya/life-and-style/dn2...</td>\n",
       "      <td>Mwache Dam (Coast Region)</td>\n",
       "      <td>Karimenu Dam (Kiambu)</td>\n",
       "      <td>Siyoi Muruny (West Pokot)</td>\n",
       "      <td>Bute Dam (Wajir)</td>\n",
       "      <td>and Soin Koru Dam (Nyanza).</td>\n",
       "    </tr>\n",
       "  </tbody>\n",
       "</table>\n",
       "</div>"
      ],
      "text/plain": [
       "               Header                                               Date  \\\n",
       "89  With your mandate   we made tenfold investments in the water sect...   \n",
       "\n",
       "                                              Content  \\\n",
       "89   Yamo Dam in Samburu County) and we are on cou...   \n",
       "\n",
       "                                                 urls  \\\n",
       "89  https://nation.africa/kenya/life-and-style/dn2...   \n",
       "\n",
       "                    Unnamed: 4              Unnamed: 5  \\\n",
       "89   Mwache Dam (Coast Region)   Karimenu Dam (Kiambu)   \n",
       "\n",
       "                    Unnamed: 6         Unnamed: 7  \\\n",
       "89   Siyoi Muruny (West Pokot)   Bute Dam (Wajir)   \n",
       "\n",
       "                       Unnamed: 8  \n",
       "89   and Soin Koru Dam (Nyanza).   "
      ]
     },
     "execution_count": 14,
     "metadata": {},
     "output_type": "execute_result"
    }
   ],
   "source": [
    "d"
   ]
  },
  {
   "cell_type": "code",
   "execution_count": 51,
   "metadata": {},
   "outputs": [
    {
     "data": {
      "text/html": [
       "<div>\n",
       "<style scoped>\n",
       "    .dataframe tbody tr th:only-of-type {\n",
       "        vertical-align: middle;\n",
       "    }\n",
       "\n",
       "    .dataframe tbody tr th {\n",
       "        vertical-align: top;\n",
       "    }\n",
       "\n",
       "    .dataframe thead th {\n",
       "        text-align: right;\n",
       "    }\n",
       "</style>\n",
       "<table border=\"1\" class=\"dataframe\">\n",
       "  <thead>\n",
       "    <tr style=\"text-align: right;\">\n",
       "      <th></th>\n",
       "      <th>Header</th>\n",
       "      <th>urls</th>\n",
       "    </tr>\n",
       "  </thead>\n",
       "  <tbody>\n",
       "    <tr>\n",
       "      <th>0</th>\n",
       "      <td>Muriithi: A minor is not a citizen and other b...</td>\n",
       "      <td>https://nation.africa/kenya/blogs-opinion/opin...</td>\n",
       "    </tr>\n",
       "    <tr>\n",
       "      <th>1</th>\n",
       "      <td>Case on Sh50 eCitizen convenience fee transfer...</td>\n",
       "      <td>https://nation.africa/kenya/news/case-on-eciti...</td>\n",
       "    </tr>\n",
       "    <tr>\n",
       "      <th>2</th>\n",
       "      <td>Half of businesses snub transactions on KRAs e...</td>\n",
       "      <td>https://nation.africa/kenya/business/half-of-b...</td>\n",
       "    </tr>\n",
       "    <tr>\n",
       "      <th>3</th>\n",
       "      <td>Why Gathungu will conduct forensic audit on eC...</td>\n",
       "      <td>https://nation.africa/kenya/business/why-nancy...</td>\n",
       "    </tr>\n",
       "    <tr>\n",
       "      <th>4</th>\n",
       "      <td>PS on the spot on payment of school fees throu...</td>\n",
       "      <td>https://nation.africa/kenya/news/mps-put-ps-on...</td>\n",
       "    </tr>\n",
       "  </tbody>\n",
       "</table>\n",
       "</div>"
      ],
      "text/plain": [
       "                                              Header  \\\n",
       "0  Muriithi: A minor is not a citizen and other b...   \n",
       "1  Case on Sh50 eCitizen convenience fee transfer...   \n",
       "2  Half of businesses snub transactions on KRAs e...   \n",
       "3  Why Gathungu will conduct forensic audit on eC...   \n",
       "4  PS on the spot on payment of school fees throu...   \n",
       "\n",
       "                                                urls  \n",
       "0  https://nation.africa/kenya/blogs-opinion/opin...  \n",
       "1  https://nation.africa/kenya/news/case-on-eciti...  \n",
       "2  https://nation.africa/kenya/business/half-of-b...  \n",
       "3  https://nation.africa/kenya/business/why-nancy...  \n",
       "4  https://nation.africa/kenya/news/mps-put-ps-on...  "
      ]
     },
     "execution_count": 51,
     "metadata": {},
     "output_type": "execute_result"
    }
   ],
   "source": [
    "url = pd.read_csv(\"urls.csv\")\n",
    "url.head()"
   ]
  },
  {
   "cell_type": "code",
   "execution_count": 17,
   "metadata": {},
   "outputs": [
    {
     "data": {
      "text/plain": [
       "(132, 2)"
      ]
     },
     "execution_count": 17,
     "metadata": {},
     "output_type": "execute_result"
    }
   ],
   "source": [
    "urls = url.drop_duplicates().shape"
   ]
  },
  {
   "cell_type": "code",
   "execution_count": 19,
   "metadata": {},
   "outputs": [
    {
     "data": {
      "text/plain": [
       "(131,)"
      ]
     },
     "execution_count": 19,
     "metadata": {},
     "output_type": "execute_result"
    }
   ],
   "source": [
    "url['Header'].drop_duplicates().shape"
   ]
  },
  {
   "cell_type": "code",
   "execution_count": 20,
   "metadata": {},
   "outputs": [
    {
     "data": {
      "text/plain": [
       "Index(['Header', 'Date', 'Content', 'urls', 'Unnamed: 4', 'Unnamed: 5',\n",
       "       'Unnamed: 6', 'Unnamed: 7', 'Unnamed: 8'],\n",
       "      dtype='object')"
      ]
     },
     "execution_count": 20,
     "metadata": {},
     "output_type": "execute_result"
    }
   ],
   "source": [
    "data.columns"
   ]
  },
  {
   "cell_type": "code",
   "execution_count": 40,
   "metadata": {},
   "outputs": [],
   "source": [
    "from tqdm import tqdm"
   ]
  },
  {
   "cell_type": "code",
   "execution_count": 62,
   "metadata": {},
   "outputs": [
    {
     "name": "stderr",
     "output_type": "stream",
     "text": [
      "  0%|          | 0/132 [00:00<?, ?it/s]\n",
      " 99%|█████████▉| 131/132 [00:00<00:00, 2554.03it/s]\n"
     ]
    }
   ],
   "source": [
    "cleaned_df = pd.DataFrame()\n",
    "headers = []\n",
    "dates = []\n",
    "contents = []\n",
    "urls = []\n",
    "\n",
    "for _, url_header in zip(range(len(tqdm(url['Header'].values))), tqdm(url['Header'].values)):\n",
    "    try:\n",
    "        row = data[data['Header'] == url_header.strip()]\n",
    "        headers.append(row['Header'].values[0])\n",
    "        dates.append(row['Date'].values[0])\n",
    "        contents.append(row['Content'].values[0])\n",
    "        urls.append(row['urls'].values[0])\n",
    "\n",
    "    except:\n",
    "        print(url_header)\n",
    "        break\n"
   ]
  },
  {
   "cell_type": "code",
   "execution_count": 64,
   "metadata": {},
   "outputs": [],
   "source": [
    "cleaned_df['Header'] = headers\n",
    "cleaned_df['Date'] = dates\n",
    "\n",
    "cleaned_df['Content'] = contents\n",
    "\n",
    "cleaned_df['URLs'] = urls"
   ]
  },
  {
   "cell_type": "code",
   "execution_count": 65,
   "metadata": {},
   "outputs": [],
   "source": [
    "cleaned_df.to_excel(\"Cleaned.xlsx\", index=False)"
   ]
  },
  {
   "cell_type": "code",
   "execution_count": 66,
   "metadata": {},
   "outputs": [
    {
     "data": {
      "text/plain": [
       "(132, 2)"
      ]
     },
     "execution_count": 66,
     "metadata": {},
     "output_type": "execute_result"
    }
   ],
   "source": [
    "url.shape"
   ]
  },
  {
   "cell_type": "code",
   "execution_count": 67,
   "metadata": {},
   "outputs": [
    {
     "data": {
      "text/plain": [
       "Header\n",
       "FactCheck: Matiangi knows it takes 15 days to process a passport. No, it does not    2\n",
       "Case on Sh50 eCitizen convenience fee transferred to Nairobi                         1\n",
       "Muriithi: A minor is not a citizen and other bizarre Kenyan rules                    1\n",
       "Half of businesses snub transactions on KRAs eTIMS platform                          1\n",
       "Why Gathungu will conduct forensic audit on eCitizen                                 1\n",
       "                                                                                    ..\n",
       "Awori tops Google search in May                                                      1\n",
       "Authority pilots online renewal of driving licences                                  1\n",
       "WALUBENGO: The Keter weighbridge lesson – corruption abhors automation               1\n",
       "Make customer the core pillar and take your business places                          1\n",
       "Issuance of driving licences to go online from next month                            1\n",
       "Name: count, Length: 131, dtype: int64"
      ]
     },
     "execution_count": 67,
     "metadata": {},
     "output_type": "execute_result"
    }
   ],
   "source": [
    "url['Header'].value_counts()"
   ]
  },
  {
   "cell_type": "code",
   "execution_count": 68,
   "metadata": {},
   "outputs": [
    {
     "data": {
      "text/html": [
       "<div>\n",
       "<style scoped>\n",
       "    .dataframe tbody tr th:only-of-type {\n",
       "        vertical-align: middle;\n",
       "    }\n",
       "\n",
       "    .dataframe tbody tr th {\n",
       "        vertical-align: top;\n",
       "    }\n",
       "\n",
       "    .dataframe thead th {\n",
       "        text-align: right;\n",
       "    }\n",
       "</style>\n",
       "<table border=\"1\" class=\"dataframe\">\n",
       "  <thead>\n",
       "    <tr style=\"text-align: right;\">\n",
       "      <th></th>\n",
       "      <th>Header</th>\n",
       "      <th>urls</th>\n",
       "    </tr>\n",
       "  </thead>\n",
       "  <tbody>\n",
       "    <tr>\n",
       "      <th>92</th>\n",
       "      <td>FactCheck: Matiangi knows it takes 15 days to ...</td>\n",
       "      <td>https://nation.africa/kenya/newsplex/factcheck...</td>\n",
       "    </tr>\n",
       "    <tr>\n",
       "      <th>93</th>\n",
       "      <td>FactCheck: Matiangi knows it takes 15 days to ...</td>\n",
       "      <td>https://nation.africa/kenya/newsplex/factcheck...</td>\n",
       "    </tr>\n",
       "  </tbody>\n",
       "</table>\n",
       "</div>"
      ],
      "text/plain": [
       "                                               Header  \\\n",
       "92  FactCheck: Matiangi knows it takes 15 days to ...   \n",
       "93  FactCheck: Matiangi knows it takes 15 days to ...   \n",
       "\n",
       "                                                 urls  \n",
       "92  https://nation.africa/kenya/newsplex/factcheck...  \n",
       "93  https://nation.africa/kenya/newsplex/factcheck...  "
      ]
     },
     "execution_count": 68,
     "metadata": {},
     "output_type": "execute_result"
    }
   ],
   "source": [
    "url[url['Header'] == \"FactCheck: Matiangi knows it takes 15 days to process a passport. No, it does not\"]"
   ]
  }
 ],
 "metadata": {
  "kernelspec": {
   "display_name": ".venv",
   "language": "python",
   "name": "python3"
  },
  "language_info": {
   "codemirror_mode": {
    "name": "ipython",
    "version": 3
   },
   "file_extension": ".py",
   "mimetype": "text/x-python",
   "name": "python",
   "nbconvert_exporter": "python",
   "pygments_lexer": "ipython3",
   "version": "3.11.9"
  }
 },
 "nbformat": 4,
 "nbformat_minor": 2
}
